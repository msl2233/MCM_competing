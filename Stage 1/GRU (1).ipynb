{
  "cells": [
    {
      "cell_type": "markdown",
      "id": "88643763",
      "metadata": {},
      "source": [
        "# Sources\n",
        "Code adapted from: https://www.youtube.com/watch?v=q_HS4s1L8UI&t=1694s\n",
        "https://courseworks2.columbia.edu/courses/198078/pages/mcm-problem-c?module_item_id=2487630\n",
        "https://campus.datacamp.com/courses/intermediate-deep-learning-with-pytorch/sequences-recurrent-neural-networks?ex=7 "
      ]
    },
    {
      "cell_type": "code",
      "execution_count": 1,
      "id": "2a4fdd0f",
      "metadata": {
        "colab": {
          "base_uri": "https://localhost:8080/",
          "height": 304
        },
        "id": "2a4fdd0f",
        "outputId": "0fe48e67-b0ca-47d4-ebc8-2514e89c1cb1"
      },
      "outputs": [
        {
          "data": {
            "text/html": [
              "<div>\n",
              "<style scoped>\n",
              "    .dataframe tbody tr th:only-of-type {\n",
              "        vertical-align: middle;\n",
              "    }\n",
              "\n",
              "    .dataframe tbody tr th {\n",
              "        vertical-align: top;\n",
              "    }\n",
              "\n",
              "    .dataframe thead th {\n",
              "        text-align: right;\n",
              "    }\n",
              "</style>\n",
              "<table border=\"1\" class=\"dataframe\">\n",
              "  <thead>\n",
              "    <tr style=\"text-align: right;\">\n",
              "      <th></th>\n",
              "      <th>Date</th>\n",
              "      <th>Contest number</th>\n",
              "      <th>Word</th>\n",
              "      <th>Number of  reported results</th>\n",
              "      <th>Number in hard mode</th>\n",
              "      <th>1 try</th>\n",
              "      <th>2 tries</th>\n",
              "      <th>3 tries</th>\n",
              "      <th>4 tries</th>\n",
              "      <th>5 tries</th>\n",
              "      <th>6 tries</th>\n",
              "      <th>7 or more tries (X)</th>\n",
              "    </tr>\n",
              "  </thead>\n",
              "  <tbody>\n",
              "    <tr>\n",
              "      <th>1</th>\n",
              "      <td>2022-12-31 00:00:00</td>\n",
              "      <td>560</td>\n",
              "      <td>manly</td>\n",
              "      <td>20380</td>\n",
              "      <td>1899</td>\n",
              "      <td>0</td>\n",
              "      <td>2</td>\n",
              "      <td>17</td>\n",
              "      <td>37</td>\n",
              "      <td>29</td>\n",
              "      <td>12</td>\n",
              "      <td>2</td>\n",
              "    </tr>\n",
              "    <tr>\n",
              "      <th>2</th>\n",
              "      <td>2022-12-30 00:00:00</td>\n",
              "      <td>559</td>\n",
              "      <td>molar</td>\n",
              "      <td>21204</td>\n",
              "      <td>1973</td>\n",
              "      <td>0</td>\n",
              "      <td>4</td>\n",
              "      <td>21</td>\n",
              "      <td>38</td>\n",
              "      <td>26</td>\n",
              "      <td>9</td>\n",
              "      <td>1</td>\n",
              "    </tr>\n",
              "    <tr>\n",
              "      <th>3</th>\n",
              "      <td>2022-12-29 00:00:00</td>\n",
              "      <td>558</td>\n",
              "      <td>havoc</td>\n",
              "      <td>20001</td>\n",
              "      <td>1919</td>\n",
              "      <td>0</td>\n",
              "      <td>2</td>\n",
              "      <td>16</td>\n",
              "      <td>38</td>\n",
              "      <td>30</td>\n",
              "      <td>12</td>\n",
              "      <td>2</td>\n",
              "    </tr>\n",
              "    <tr>\n",
              "      <th>4</th>\n",
              "      <td>2022-12-28 00:00:00</td>\n",
              "      <td>557</td>\n",
              "      <td>impel</td>\n",
              "      <td>20160</td>\n",
              "      <td>1937</td>\n",
              "      <td>0</td>\n",
              "      <td>3</td>\n",
              "      <td>21</td>\n",
              "      <td>40</td>\n",
              "      <td>25</td>\n",
              "      <td>9</td>\n",
              "      <td>1</td>\n",
              "    </tr>\n",
              "    <tr>\n",
              "      <th>5</th>\n",
              "      <td>2022-12-27 00:00:00</td>\n",
              "      <td>556</td>\n",
              "      <td>condo</td>\n",
              "      <td>20879</td>\n",
              "      <td>2012</td>\n",
              "      <td>0</td>\n",
              "      <td>2</td>\n",
              "      <td>17</td>\n",
              "      <td>35</td>\n",
              "      <td>29</td>\n",
              "      <td>14</td>\n",
              "      <td>3</td>\n",
              "    </tr>\n",
              "    <tr>\n",
              "      <th>...</th>\n",
              "      <td>...</td>\n",
              "      <td>...</td>\n",
              "      <td>...</td>\n",
              "      <td>...</td>\n",
              "      <td>...</td>\n",
              "      <td>...</td>\n",
              "      <td>...</td>\n",
              "      <td>...</td>\n",
              "      <td>...</td>\n",
              "      <td>...</td>\n",
              "      <td>...</td>\n",
              "      <td>...</td>\n",
              "    </tr>\n",
              "    <tr>\n",
              "      <th>355</th>\n",
              "      <td>2022-01-11 00:00:00</td>\n",
              "      <td>206</td>\n",
              "      <td>drink</td>\n",
              "      <td>153880</td>\n",
              "      <td>3017</td>\n",
              "      <td>1</td>\n",
              "      <td>9</td>\n",
              "      <td>35</td>\n",
              "      <td>34</td>\n",
              "      <td>16</td>\n",
              "      <td>5</td>\n",
              "      <td>1</td>\n",
              "    </tr>\n",
              "    <tr>\n",
              "      <th>356</th>\n",
              "      <td>2022-01-10 00:00:00</td>\n",
              "      <td>205</td>\n",
              "      <td>query</td>\n",
              "      <td>107134</td>\n",
              "      <td>2242</td>\n",
              "      <td>1</td>\n",
              "      <td>4</td>\n",
              "      <td>16</td>\n",
              "      <td>30</td>\n",
              "      <td>30</td>\n",
              "      <td>17</td>\n",
              "      <td>2</td>\n",
              "    </tr>\n",
              "    <tr>\n",
              "      <th>357</th>\n",
              "      <td>2022-01-09 00:00:00</td>\n",
              "      <td>204</td>\n",
              "      <td>gorge</td>\n",
              "      <td>91477</td>\n",
              "      <td>1913</td>\n",
              "      <td>1</td>\n",
              "      <td>3</td>\n",
              "      <td>13</td>\n",
              "      <td>27</td>\n",
              "      <td>30</td>\n",
              "      <td>22</td>\n",
              "      <td>4</td>\n",
              "    </tr>\n",
              "    <tr>\n",
              "      <th>358</th>\n",
              "      <td>2022-01-08 00:00:00</td>\n",
              "      <td>203</td>\n",
              "      <td>crank</td>\n",
              "      <td>101503</td>\n",
              "      <td>1763</td>\n",
              "      <td>1</td>\n",
              "      <td>5</td>\n",
              "      <td>23</td>\n",
              "      <td>31</td>\n",
              "      <td>24</td>\n",
              "      <td>14</td>\n",
              "      <td>2</td>\n",
              "    </tr>\n",
              "    <tr>\n",
              "      <th>359</th>\n",
              "      <td>2022-01-07 00:00:00</td>\n",
              "      <td>202</td>\n",
              "      <td>slump</td>\n",
              "      <td>80630</td>\n",
              "      <td>1362</td>\n",
              "      <td>1</td>\n",
              "      <td>3</td>\n",
              "      <td>23</td>\n",
              "      <td>39</td>\n",
              "      <td>24</td>\n",
              "      <td>9</td>\n",
              "      <td>1</td>\n",
              "    </tr>\n",
              "  </tbody>\n",
              "</table>\n",
              "<p>359 rows × 12 columns</p>\n",
              "</div>"
            ],
            "text/plain": [
              "0                   Date Contest number   Word Number of  reported results  \\\n",
              "1    2022-12-31 00:00:00            560  manly                       20380   \n",
              "2    2022-12-30 00:00:00            559  molar                       21204   \n",
              "3    2022-12-29 00:00:00            558  havoc                       20001   \n",
              "4    2022-12-28 00:00:00            557  impel                       20160   \n",
              "5    2022-12-27 00:00:00            556  condo                       20879   \n",
              "..                   ...            ...    ...                         ...   \n",
              "355  2022-01-11 00:00:00            206  drink                      153880   \n",
              "356  2022-01-10 00:00:00            205  query                      107134   \n",
              "357  2022-01-09 00:00:00            204  gorge                       91477   \n",
              "358  2022-01-08 00:00:00            203  crank                      101503   \n",
              "359  2022-01-07 00:00:00            202  slump                       80630   \n",
              "\n",
              "0   Number in hard mode 1 try 2 tries 3 tries 4 tries 5 tries 6 tries  \\\n",
              "1                  1899     0       2      17      37      29      12   \n",
              "2                  1973     0       4      21      38      26       9   \n",
              "3                  1919     0       2      16      38      30      12   \n",
              "4                  1937     0       3      21      40      25       9   \n",
              "5                  2012     0       2      17      35      29      14   \n",
              "..                  ...   ...     ...     ...     ...     ...     ...   \n",
              "355                3017     1       9      35      34      16       5   \n",
              "356                2242     1       4      16      30      30      17   \n",
              "357                1913     1       3      13      27      30      22   \n",
              "358                1763     1       5      23      31      24      14   \n",
              "359                1362     1       3      23      39      24       9   \n",
              "\n",
              "0   7 or more tries (X)  \n",
              "1                     2  \n",
              "2                     1  \n",
              "3                     2  \n",
              "4                     1  \n",
              "5                     3  \n",
              "..                  ...  \n",
              "355                   1  \n",
              "356                   2  \n",
              "357                   4  \n",
              "358                   2  \n",
              "359                   1  \n",
              "\n",
              "[359 rows x 12 columns]"
            ]
          },
          "execution_count": 1,
          "metadata": {},
          "output_type": "execute_result"
        }
      ],
      "source": [
        "import pandas as pd\n",
        "import numpy as np\n",
        "import matplotlib.pyplot as plt\n",
        "\n",
        "import torch\n",
        "import torch.nn as nn\n",
        "\n",
        "\n",
        "df = pd.read_excel(\"../data/Problem_C_Data_Wordle.xlsx\")\n",
        "\n",
        "# Format the data properly\n",
        "df = df.iloc[:, 1:]\n",
        "df.columns = df.iloc[0]\n",
        "df = df[1:]\n",
        "\n",
        "df"
      ]
    },
    {
      "cell_type": "code",
      "execution_count": 2,
      "id": "WtCP8-cDbg9R",
      "metadata": {
        "colab": {
          "base_uri": "https://localhost:8080/",
          "height": 423
        },
        "id": "WtCP8-cDbg9R",
        "outputId": "1a923823-8c15-4765-c9c9-19a233dc8131"
      },
      "outputs": [
        {
          "data": {
            "text/html": [
              "<div>\n",
              "<style scoped>\n",
              "    .dataframe tbody tr th:only-of-type {\n",
              "        vertical-align: middle;\n",
              "    }\n",
              "\n",
              "    .dataframe tbody tr th {\n",
              "        vertical-align: top;\n",
              "    }\n",
              "\n",
              "    .dataframe thead th {\n",
              "        text-align: right;\n",
              "    }\n",
              "</style>\n",
              "<table border=\"1\" class=\"dataframe\">\n",
              "  <thead>\n",
              "    <tr style=\"text-align: right;\">\n",
              "      <th></th>\n",
              "      <th>Contest number</th>\n",
              "      <th>Number of  reported results</th>\n",
              "    </tr>\n",
              "  </thead>\n",
              "  <tbody>\n",
              "    <tr>\n",
              "      <th>1</th>\n",
              "      <td>560</td>\n",
              "      <td>20380</td>\n",
              "    </tr>\n",
              "    <tr>\n",
              "      <th>2</th>\n",
              "      <td>559</td>\n",
              "      <td>21204</td>\n",
              "    </tr>\n",
              "    <tr>\n",
              "      <th>3</th>\n",
              "      <td>558</td>\n",
              "      <td>20001</td>\n",
              "    </tr>\n",
              "    <tr>\n",
              "      <th>4</th>\n",
              "      <td>557</td>\n",
              "      <td>20160</td>\n",
              "    </tr>\n",
              "    <tr>\n",
              "      <th>5</th>\n",
              "      <td>556</td>\n",
              "      <td>20879</td>\n",
              "    </tr>\n",
              "    <tr>\n",
              "      <th>...</th>\n",
              "      <td>...</td>\n",
              "      <td>...</td>\n",
              "    </tr>\n",
              "    <tr>\n",
              "      <th>355</th>\n",
              "      <td>206</td>\n",
              "      <td>153880</td>\n",
              "    </tr>\n",
              "    <tr>\n",
              "      <th>356</th>\n",
              "      <td>205</td>\n",
              "      <td>107134</td>\n",
              "    </tr>\n",
              "    <tr>\n",
              "      <th>357</th>\n",
              "      <td>204</td>\n",
              "      <td>91477</td>\n",
              "    </tr>\n",
              "    <tr>\n",
              "      <th>358</th>\n",
              "      <td>203</td>\n",
              "      <td>101503</td>\n",
              "    </tr>\n",
              "    <tr>\n",
              "      <th>359</th>\n",
              "      <td>202</td>\n",
              "      <td>80630</td>\n",
              "    </tr>\n",
              "  </tbody>\n",
              "</table>\n",
              "<p>359 rows × 2 columns</p>\n",
              "</div>"
            ],
            "text/plain": [
              "0   Contest number Number of  reported results\n",
              "1              560                       20380\n",
              "2              559                       21204\n",
              "3              558                       20001\n",
              "4              557                       20160\n",
              "5              556                       20879\n",
              "..             ...                         ...\n",
              "355            206                      153880\n",
              "356            205                      107134\n",
              "357            204                       91477\n",
              "358            203                      101503\n",
              "359            202                       80630\n",
              "\n",
              "[359 rows x 2 columns]"
            ]
          },
          "execution_count": 2,
          "metadata": {},
          "output_type": "execute_result"
        }
      ],
      "source": [
        "# Only need the contest number and the number of reported results for this model\n",
        "df = df[['Contest number', 'Number of  reported results']]\n",
        "df"
      ]
    },
    {
      "cell_type": "code",
      "execution_count": 3,
      "id": "9akB333XcFJ6",
      "metadata": {
        "colab": {
          "base_uri": "https://localhost:8080/",
          "height": 36
        },
        "id": "9akB333XcFJ6",
        "outputId": "2e8630de-1369-4281-d87c-9634ed90ba97"
      },
      "outputs": [
        {
          "data": {
            "text/plain": [
              "'cpu'"
            ]
          },
          "execution_count": 3,
          "metadata": {},
          "output_type": "execute_result"
        }
      ],
      "source": [
        "device = 'cuda:0' if torch.cuda.is_available() else 'cpu'\n",
        "device"
      ]
    },
    {
      "cell_type": "code",
      "execution_count": 4,
      "id": "tr2YuqKGcXcJ",
      "metadata": {
        "colab": {
          "base_uri": "https://localhost:8080/",
          "height": 551
        },
        "id": "tr2YuqKGcXcJ",
        "outputId": "bd197a93-bf7f-413c-fac0-5f4dc1a8471d"
      },
      "outputs": [
        {
          "data": {
            "text/plain": [
              "[<matplotlib.lines.Line2D at 0x13fda4760>]"
            ]
          },
          "execution_count": 4,
          "metadata": {},
          "output_type": "execute_result"
        },
        {
          "data": {
            "image/png": "[encoded data removed]",
            "text/plain": [
              "<Figure size 640x480 with 1 Axes>"
            ]
          },
          "metadata": {},
          "output_type": "display_data"
        }
      ],
      "source": [
        "plt.plot(df['Contest number'], df['Number of  reported results'])"
      ]
    },
    {
      "cell_type": "code",
      "execution_count": 5,
      "id": "Q4ma6QCscwfB",
      "metadata": {
        "colab": {
          "base_uri": "https://localhost:8080/",
          "height": 455
        },
        "id": "Q4ma6QCscwfB",
        "outputId": "61bd4c08-c3f7-453d-ed92-c2232a18a5ba"
      },
      "outputs": [
        {
          "data": {
            "text/html": [
              "<div>\n",
              "<style scoped>\n",
              "    .dataframe tbody tr th:only-of-type {\n",
              "        vertical-align: middle;\n",
              "    }\n",
              "\n",
              "    .dataframe tbody tr th {\n",
              "        vertical-align: top;\n",
              "    }\n",
              "\n",
              "    .dataframe thead th {\n",
              "        text-align: right;\n",
              "    }\n",
              "</style>\n",
              "<table border=\"1\" class=\"dataframe\">\n",
              "  <thead>\n",
              "    <tr style=\"text-align: right;\">\n",
              "      <th></th>\n",
              "      <th>Number of  reported results</th>\n",
              "      <th>h(t-1)</th>\n",
              "      <th>h(t-2)</th>\n",
              "      <th>h(t-3)</th>\n",
              "      <th>h(t-4)</th>\n",
              "      <th>h(t-5)</th>\n",
              "      <th>h(t-6)</th>\n",
              "      <th>h(t-7)</th>\n",
              "    </tr>\n",
              "    <tr>\n",
              "      <th>Contest number</th>\n",
              "      <th></th>\n",
              "      <th></th>\n",
              "      <th></th>\n",
              "      <th></th>\n",
              "      <th></th>\n",
              "      <th></th>\n",
              "      <th></th>\n",
              "      <th></th>\n",
              "    </tr>\n",
              "  </thead>\n",
              "  <tbody>\n",
              "    <tr>\n",
              "      <th>209</th>\n",
              "      <td>169484</td>\n",
              "      <td>132726</td>\n",
              "      <td>137586</td>\n",
              "      <td>153880</td>\n",
              "      <td>107134</td>\n",
              "      <td>91477</td>\n",
              "      <td>101503</td>\n",
              "      <td>80630</td>\n",
              "    </tr>\n",
              "    <tr>\n",
              "      <th>210</th>\n",
              "      <td>205880</td>\n",
              "      <td>169484</td>\n",
              "      <td>132726</td>\n",
              "      <td>137586</td>\n",
              "      <td>153880</td>\n",
              "      <td>107134</td>\n",
              "      <td>91477</td>\n",
              "      <td>101503</td>\n",
              "    </tr>\n",
              "    <tr>\n",
              "      <th>211</th>\n",
              "      <td>209609</td>\n",
              "      <td>205880</td>\n",
              "      <td>169484</td>\n",
              "      <td>132726</td>\n",
              "      <td>137586</td>\n",
              "      <td>153880</td>\n",
              "      <td>107134</td>\n",
              "      <td>91477</td>\n",
              "    </tr>\n",
              "    <tr>\n",
              "      <th>212</th>\n",
              "      <td>222197</td>\n",
              "      <td>209609</td>\n",
              "      <td>205880</td>\n",
              "      <td>169484</td>\n",
              "      <td>132726</td>\n",
              "      <td>137586</td>\n",
              "      <td>153880</td>\n",
              "      <td>107134</td>\n",
              "    </tr>\n",
              "    <tr>\n",
              "      <th>213</th>\n",
              "      <td>220950</td>\n",
              "      <td>222197</td>\n",
              "      <td>209609</td>\n",
              "      <td>205880</td>\n",
              "      <td>169484</td>\n",
              "      <td>132726</td>\n",
              "      <td>137586</td>\n",
              "      <td>153880</td>\n",
              "    </tr>\n",
              "    <tr>\n",
              "      <th>...</th>\n",
              "      <td>...</td>\n",
              "      <td>...</td>\n",
              "      <td>...</td>\n",
              "      <td>...</td>\n",
              "      <td>...</td>\n",
              "      <td>...</td>\n",
              "      <td>...</td>\n",
              "      <td>...</td>\n",
              "    </tr>\n",
              "    <tr>\n",
              "      <th>556</th>\n",
              "      <td>20879</td>\n",
              "      <td>20011</td>\n",
              "      <td>15554</td>\n",
              "      <td>20281</td>\n",
              "      <td>21937</td>\n",
              "      <td>20490</td>\n",
              "      <td>22180</td>\n",
              "      <td>24137</td>\n",
              "    </tr>\n",
              "    <tr>\n",
              "      <th>557</th>\n",
              "      <td>20160</td>\n",
              "      <td>20879</td>\n",
              "      <td>20011</td>\n",
              "      <td>15554</td>\n",
              "      <td>20281</td>\n",
              "      <td>21937</td>\n",
              "      <td>20490</td>\n",
              "      <td>22180</td>\n",
              "    </tr>\n",
              "    <tr>\n",
              "      <th>558</th>\n",
              "      <td>20001</td>\n",
              "      <td>20160</td>\n",
              "      <td>20879</td>\n",
              "      <td>20011</td>\n",
              "      <td>15554</td>\n",
              "      <td>20281</td>\n",
              "      <td>21937</td>\n",
              "      <td>20490</td>\n",
              "    </tr>\n",
              "    <tr>\n",
              "      <th>559</th>\n",
              "      <td>21204</td>\n",
              "      <td>20001</td>\n",
              "      <td>20160</td>\n",
              "      <td>20879</td>\n",
              "      <td>20011</td>\n",
              "      <td>15554</td>\n",
              "      <td>20281</td>\n",
              "      <td>21937</td>\n",
              "    </tr>\n",
              "    <tr>\n",
              "      <th>560</th>\n",
              "      <td>20380</td>\n",
              "      <td>21204</td>\n",
              "      <td>20001</td>\n",
              "      <td>20160</td>\n",
              "      <td>20879</td>\n",
              "      <td>20011</td>\n",
              "      <td>15554</td>\n",
              "      <td>20281</td>\n",
              "    </tr>\n",
              "  </tbody>\n",
              "</table>\n",
              "<p>352 rows × 8 columns</p>\n",
              "</div>"
            ],
            "text/plain": [
              "0              Number of  reported results  h(t-1)  h(t-2)  h(t-3)  h(t-4)  \\\n",
              "Contest number                                                               \n",
              "209                                 169484  132726  137586  153880  107134   \n",
              "210                                 205880  169484  132726  137586  153880   \n",
              "211                                 209609  205880  169484  132726  137586   \n",
              "212                                 222197  209609  205880  169484  132726   \n",
              "213                                 220950  222197  209609  205880  169484   \n",
              "...                                    ...     ...     ...     ...     ...   \n",
              "556                                  20879   20011   15554   20281   21937   \n",
              "557                                  20160   20879   20011   15554   20281   \n",
              "558                                  20001   20160   20879   20011   15554   \n",
              "559                                  21204   20001   20160   20879   20011   \n",
              "560                                  20380   21204   20001   20160   20879   \n",
              "\n",
              "0               h(t-5)  h(t-6)  h(t-7)  \n",
              "Contest number                          \n",
              "209              91477  101503   80630  \n",
              "210             107134   91477  101503  \n",
              "211             153880  107134   91477  \n",
              "212             137586  153880  107134  \n",
              "213             132726  137586  153880  \n",
              "...                ...     ...     ...  \n",
              "556              20490   22180   24137  \n",
              "557              21937   20490   22180  \n",
              "558              20281   21937   20490  \n",
              "559              15554   20281   21937  \n",
              "560              20011   15554   20281  \n",
              "\n",
              "[352 rows x 8 columns]"
            ]
          },
          "execution_count": 5,
          "metadata": {},
          "output_type": "execute_result"
        }
      ],
      "source": [
        "from copy import deepcopy as dc\n",
        "\n",
        "# Sets up data to be passed into GRU model\n",
        "def prepare_dataframe_for_model(df, n_steps):\n",
        "    df = dc(df)\n",
        "    df.set_index('Contest number', inplace=True)\n",
        "    df = df.iloc[::-1, :]\n",
        "    for i in range(1, n_steps+1):\n",
        "        df[f'h(t-{i})'] = df['Number of  reported results'].shift(i)\n",
        "\n",
        "    df.dropna(inplace=True)\n",
        "\n",
        "    return df\n",
        "\n",
        "lookback = 7\n",
        "shifted_df = prepare_dataframe_for_model(df, lookback)\n",
        "shifted_df"
      ]
    },
    {
      "cell_type": "code",
      "execution_count": 6,
      "id": "yWcD1tHjfAU-",
      "metadata": {
        "colab": {
          "base_uri": "https://localhost:8080/"
        },
        "id": "yWcD1tHjfAU-",
        "outputId": "e10f8cdf-7b44-4c1a-d0a2-9007aac1685c"
      },
      "outputs": [
        {
          "data": {
            "text/plain": [
              "array([[169484, 132726, 137586, ..., 91477, 101503, 80630],\n",
              "       [205880, 169484, 132726, ..., 107134, 91477, 101503],\n",
              "       [209609, 205880, 169484, ..., 153880, 107134, 91477],\n",
              "       ...,\n",
              "       [20001, 20160, 20879, ..., 20281, 21937, 20490],\n",
              "       [21204, 20001, 20160, ..., 15554, 20281, 21937],\n",
              "       [20380, 21204, 20001, ..., 20011, 15554, 20281]], dtype=object)"
            ]
          },
          "execution_count": 6,
          "metadata": {},
          "output_type": "execute_result"
        }
      ],
      "source": [
        "shifted_df_as_np = shifted_df.to_numpy()\n",
        "\n",
        "shifted_df_as_np"
      ]
    },
    {
      "cell_type": "code",
      "execution_count": 7,
      "id": "Pq2p3opGELA_",
      "metadata": {
        "colab": {
          "base_uri": "https://localhost:8080/"
        },
        "id": "Pq2p3opGELA_",
        "outputId": "5cb2ff07-5d8f-4117-eafd-6a3c5663c6ff"
      },
      "outputs": [
        {
          "data": {
            "text/plain": [
              "(352, 8)"
            ]
          },
          "execution_count": 7,
          "metadata": {},
          "output_type": "execute_result"
        }
      ],
      "source": [
        "shifted_df_as_np.shape"
      ]
    },
    {
      "cell_type": "code",
      "execution_count": 8,
      "id": "pXHkuFeafNUU",
      "metadata": {
        "colab": {
          "base_uri": "https://localhost:8080/"
        },
        "id": "pXHkuFeafNUU",
        "outputId": "a67d1f79-d279-4c96-e40f-0d9a5f9f7d7d"
      },
      "outputs": [
        {
          "data": {
            "text/plain": [
              "array([[-0.11114062, -0.32339745, -0.29533368, ..., -0.56158728,\n",
              "        -0.50369275, -0.64669654],\n",
              "       [ 0.09902585, -0.11114062, -0.32339745, ..., -0.47117689,\n",
              "        -0.56158728, -0.52449894],\n",
              "       [ 0.12055873,  0.09902585, -0.11114062, ..., -0.20124497,\n",
              "        -0.47117689, -0.58319454],\n",
              "       ...,\n",
              "       [-0.97432107, -0.97340293, -0.96925111, ..., -0.97270423,\n",
              "        -0.96314176, -0.99877644],\n",
              "       [-0.96737442, -0.97432107, -0.97340293, ..., -1.        ,\n",
              "        -0.97270423, -0.99030522],\n",
              "       [-0.97213256, -0.96737442, -0.97432107, ..., -0.97426333,\n",
              "        -1.        , -1.        ]])"
            ]
          },
          "execution_count": 8,
          "metadata": {},
          "output_type": "execute_result"
        }
      ],
      "source": [
        "from sklearn.preprocessing import MinMaxScaler\n",
        "\n",
        "# Scale the data to be between -1 and 1\n",
        "scaler = MinMaxScaler(feature_range=(-1, 1))\n",
        "shifted_df_as_np = scaler.fit_transform(shifted_df_as_np)\n",
        "\n",
        "shifted_df_as_np"
      ]
    },
    {
      "cell_type": "code",
      "execution_count": 9,
      "id": "Iui9unuTfxOe",
      "metadata": {
        "colab": {
          "base_uri": "https://localhost:8080/"
        },
        "id": "Iui9unuTfxOe",
        "outputId": "642f093d-5071-43ef-fb9c-4c54061aec3e"
      },
      "outputs": [
        {
          "data": {
            "text/plain": [
              "((352, 7), (352,))"
            ]
          },
          "execution_count": 9,
          "metadata": {},
          "output_type": "execute_result"
        }
      ],
      "source": [
        "X = shifted_df_as_np[:, 1:]\n",
        "y = shifted_df_as_np[:, 0]\n",
        "\n",
        "X.shape, y.shape"
      ]
    },
    {
      "cell_type": "code",
      "execution_count": 10,
      "id": "XmbIqwj-E0cv",
      "metadata": {
        "colab": {
          "base_uri": "https://localhost:8080/"
        },
        "id": "XmbIqwj-E0cv",
        "outputId": "48ccc3a1-1b5c-49fd-ae2f-3f8b143fbb4c"
      },
      "outputs": [
        {
          "data": {
            "text/plain": [
              "array([[-0.64669654, -0.50369275, -0.56158728, ..., -0.20124497,\n",
              "        -0.29533368, -0.32339745],\n",
              "       [-0.52449894, -0.56158728, -0.47117689, ..., -0.29533368,\n",
              "        -0.32339745, -0.11114062],\n",
              "       [-0.58319454, -0.47117689, -0.20124497, ..., -0.32339745,\n",
              "        -0.11114062,  0.09902585],\n",
              "       ...,\n",
              "       [-0.99877644, -0.96314176, -0.97270423, ..., -0.97426333,\n",
              "        -0.96925111, -0.97340293],\n",
              "       [-0.99030522, -0.97270423, -1.        , ..., -0.96925111,\n",
              "        -0.97340293, -0.97432107],\n",
              "       [-1.        , -1.        , -0.97426333, ..., -0.97340293,\n",
              "        -0.97432107, -0.96737442]])"
            ]
          },
          "execution_count": 10,
          "metadata": {},
          "output_type": "execute_result"
        }
      ],
      "source": [
        "# Some more formatting\n",
        "X = dc(np.flip(X, axis=1))\n",
        "X"
      ]
    },
    {
      "cell_type": "code",
      "execution_count": 11,
      "id": "GCHslawXgE21",
      "metadata": {
        "colab": {
          "base_uri": "https://localhost:8080/"
        },
        "id": "GCHslawXgE21",
        "outputId": "a2e50719-a1fb-460e-9ce4-9dd873642765"
      },
      "outputs": [
        {
          "data": {
            "text/plain": [
              "282"
            ]
          },
          "execution_count": 11,
          "metadata": {},
          "output_type": "execute_result"
        }
      ],
      "source": [
        "# Split the data into training and testing (as the original paper did)\n",
        "split_index = int(len(X) * 0.8) + 1\n",
        "\n",
        "split_index"
      ]
    },
    {
      "cell_type": "code",
      "execution_count": 12,
      "id": "hhGMh_nAgiST",
      "metadata": {
        "colab": {
          "base_uri": "https://localhost:8080/"
        },
        "id": "hhGMh_nAgiST",
        "outputId": "aeb231ef-e124-4821-f4ee-dbb2275c0f98"
      },
      "outputs": [
        {
          "data": {
            "text/plain": [
              "((282, 7), (70, 7), (282,), (70,))"
            ]
          },
          "execution_count": 12,
          "metadata": {},
          "output_type": "execute_result"
        }
      ],
      "source": [
        "X_train = X[:split_index]\n",
        "X_test = X[split_index:]\n",
        "\n",
        "y_train = y[:split_index]\n",
        "y_test = y[split_index:]\n",
        "\n",
        "X_train.shape, X_test.shape, y_train.shape, y_test.shape"
      ]
    },
    {
      "cell_type": "code",
      "execution_count": 13,
      "id": "Muqs9hKYhMUS",
      "metadata": {
        "colab": {
          "base_uri": "https://localhost:8080/"
        },
        "id": "Muqs9hKYhMUS",
        "outputId": "d35136a0-5855-4bfb-b66b-b8f7a1a8ea96"
      },
      "outputs": [
        {
          "data": {
            "text/plain": [
              "((282, 7, 1), (70, 7, 1), (282, 1), (70, 1))"
            ]
          },
          "execution_count": 13,
          "metadata": {},
          "output_type": "execute_result"
        }
      ],
      "source": [
        "# Reshape the data to be in the format that PyTorch expects\n",
        "X_train = X_train.reshape((-1, lookback, 1))\n",
        "X_test = X_test.reshape((-1, lookback, 1))\n",
        "\n",
        "y_train = y_train.reshape((-1, 1))\n",
        "y_test = y_test.reshape((-1, 1))\n",
        "\n",
        "X_train.shape, X_test.shape, y_train.shape, y_test.shape"
      ]
    },
    {
      "cell_type": "code",
      "execution_count": 14,
      "id": "i7-PBcrMhR7z",
      "metadata": {
        "colab": {
          "base_uri": "https://localhost:8080/"
        },
        "id": "i7-PBcrMhR7z",
        "outputId": "b01a297a-75d6-4573-e450-a3545360112e"
      },
      "outputs": [
        {
          "data": {
            "text/plain": [
              "(torch.Size([282, 7, 1]),\n",
              " torch.Size([70, 7, 1]),\n",
              " torch.Size([282, 1]),\n",
              " torch.Size([70, 1]))"
            ]
          },
          "execution_count": 14,
          "metadata": {},
          "output_type": "execute_result"
        }
      ],
      "source": [
        "# Convert to PyTorch tensors\n",
        "X_train = torch.tensor(X_train).float()\n",
        "y_train = torch.tensor(y_train).float()\n",
        "X_test = torch.tensor(X_test).float()\n",
        "y_test = torch.tensor(y_test).float()\n",
        "\n",
        "X_train.shape, X_test.shape, y_train.shape, y_test.shape"
      ]
    },
    {
      "cell_type": "code",
      "execution_count": 15,
      "id": "DWutCAGKhdqU",
      "metadata": {
        "id": "DWutCAGKhdqU"
      },
      "outputs": [],
      "source": [
        "from torch.utils.data import Dataset\n",
        "\n",
        "# PyTorch dataset class for our data\n",
        "class TimeSeriesDataset(Dataset):\n",
        "    def __init__(self, X, y):\n",
        "        self.X = X\n",
        "        self.y = y\n",
        "\n",
        "    def __len__(self):\n",
        "        return len(self.X)\n",
        "\n",
        "    def __getitem__(self, i):\n",
        "        return self.X[i], self.y[i]\n",
        "\n",
        "train_dataset = TimeSeriesDataset(X_train, y_train)\n",
        "test_dataset = TimeSeriesDataset(X_test, y_test)"
      ]
    },
    {
      "cell_type": "code",
      "execution_count": 16,
      "id": "12OWUTa5ijoq",
      "metadata": {
        "colab": {
          "base_uri": "https://localhost:8080/"
        },
        "id": "12OWUTa5ijoq",
        "outputId": "0928d3c2-d181-4035-cc57-a2ac6ce38075"
      },
      "outputs": [
        {
          "data": {
            "text/plain": [
              "<__main__.TimeSeriesDataset at 0x10412c940>"
            ]
          },
          "execution_count": 16,
          "metadata": {},
          "output_type": "execute_result"
        }
      ],
      "source": [
        "train_dataset"
      ]
    },
    {
      "cell_type": "code",
      "execution_count": 17,
      "id": "XYsUmPl3ik46",
      "metadata": {
        "id": "XYsUmPl3ik46"
      },
      "outputs": [],
      "source": [
        "from torch.utils.data import DataLoader\n",
        "\n",
        "# PyTorch dataloader for our data (to make it easier to iterate over)\n",
        "batch_size = 16\n",
        "\n",
        "train_loader = DataLoader(train_dataset, batch_size=batch_size, shuffle=True)\n",
        "test_loader = DataLoader(test_dataset, batch_size=batch_size, shuffle=False)"
      ]
    },
    {
      "cell_type": "code",
      "execution_count": 18,
      "id": "TJTnbgBDjOSK",
      "metadata": {
        "colab": {
          "base_uri": "https://localhost:8080/"
        },
        "id": "TJTnbgBDjOSK",
        "outputId": "51226616-d4de-4a22-f4d9-576fd3e8bfba"
      },
      "outputs": [
        {
          "name": "stdout",
          "output_type": "stream",
          "text": [
            "torch.Size([16, 7, 1]) torch.Size([16, 1])\n"
          ]
        }
      ],
      "source": [
        "# Just to help us visualize the data\n",
        "for _, batch in enumerate(train_loader):\n",
        "    x_batch, y_batch = batch[0].to(device), batch[1].to(device)\n",
        "    print(x_batch.shape, y_batch.shape)\n",
        "    break"
      ]
    },
    {
      "cell_type": "code",
      "execution_count": 19,
      "id": "njdkq_kmjib5",
      "metadata": {
        "colab": {
          "base_uri": "https://localhost:8080/"
        },
        "id": "njdkq_kmjib5",
        "outputId": "db355c8d-cc21-43f5-cdfa-2156444b4531"
      },
      "outputs": [
        {
          "data": {
            "text/plain": [
              "GRU(\n",
              "  (gru): GRU(1, 4, batch_first=True)\n",
              "  (fc): Linear(in_features=4, out_features=1, bias=True)\n",
              ")"
            ]
          },
          "execution_count": 19,
          "metadata": {},
          "output_type": "execute_result"
        }
      ],
      "source": [
        "# MODEL\n",
        "class GRU(nn.Module):\n",
        "    def __init__(self, input_size, hidden_size, num_stacked_layers):\n",
        "        super().__init__()\n",
        "        self.hidden_size = hidden_size\n",
        "        self.num_stacked_layers = num_stacked_layers\n",
        "\n",
        "        self.gru = nn.GRU(input_size, hidden_size, num_stacked_layers,\n",
        "                            batch_first=True)\n",
        "\n",
        "        self.fc = nn.Linear(hidden_size, 1)\n",
        "\n",
        "    def forward(self, x):\n",
        "        batch_size = x.size(0)\n",
        "        h0 = torch.zeros(self.num_stacked_layers, batch_size, self.hidden_size).to(device)\n",
        "\n",
        "        out, _ = self.gru(x, h0)\n",
        "        out = self.fc(out[:, -1, :])\n",
        "        return out\n",
        "\n",
        "model = GRU(1, 4, 1)\n",
        "model.to(device)\n",
        "model"
      ]
    },
    {
      "cell_type": "code",
      "execution_count": 20,
      "id": "iue5WvTxmVKB",
      "metadata": {
        "id": "iue5WvTxmVKB"
      },
      "outputs": [],
      "source": [
        "# Hyperparameters: These weren't specified in the paper, so I just used some reasonable values\n",
        "learning_rate = 0.001\n",
        "num_epochs = 325\n",
        "loss_function = nn.MSELoss()\n",
        "optimizer = torch.optim.Adam(model.parameters(), lr=learning_rate)\n",
        "\n",
        "epoch = 0\n",
        "\n",
        "def train_one_epoch():\n",
        "    global epoch\n",
        "    model.train(True)\n",
        "    epoch += 1\n",
        "    running_loss = 0.0\n",
        "\n",
        "    for batch_index, batch in enumerate(train_loader):\n",
        "        x_batch, y_batch = batch[0].to(device), batch[1].to(device)\n",
        "\n",
        "        output = model(x_batch)\n",
        "        loss = loss_function(output, y_batch)\n",
        "        running_loss += loss.item()\n",
        "\n",
        "        optimizer.zero_grad()\n",
        "        loss.backward()\n",
        "        optimizer.step()"
      ]
    },
    {
      "cell_type": "code",
      "execution_count": 21,
      "id": "1jgb1aJ3lxlQ",
      "metadata": {
        "colab": {
          "base_uri": "https://localhost:8080/"
        },
        "id": "1jgb1aJ3lxlQ",
        "outputId": "2a25db36-4872-44e4-feca-4d26bad49f96"
      },
      "outputs": [],
      "source": [
        "# Train the model\n",
        "for i in range(num_epochs):\n",
        "    train_one_epoch()"
      ]
    },
    {
      "cell_type": "code",
      "execution_count": 22,
      "id": "-Xon2PHWno7t",
      "metadata": {
        "colab": {
          "base_uri": "https://localhost:8080/",
          "height": 449
        },
        "id": "-Xon2PHWno7t",
        "outputId": "862b1d87-3e42-4fe1-8618-3cf0720e0da5"
      },
      "outputs": [],
      "source": [
        "# Use model to predict on training data\n",
        "with torch.no_grad():\n",
        "    predicted = model(X_train.to(device)).to('cpu').numpy()\n"
      ]
    },
    {
      "cell_type": "code",
      "execution_count": 23,
      "id": "d3SDgEvPpOcD",
      "metadata": {
        "colab": {
          "base_uri": "https://localhost:8080/"
        },
        "id": "d3SDgEvPpOcD",
        "outputId": "e9b8491e-b15e-4aa5-ae97-6619bb4a3be9"
      },
      "outputs": [
        {
          "data": {
            "text/plain": [
              "array([133968.7393252 , 157398.58024313, 192769.56838897, 208945.6165278 ,\n",
              "       222100.19484058, 225278.40656856, 266112.73254094, 255680.10096303,\n",
              "       270136.0293037 , 253799.17749551, 266904.47268608, 264452.21801856,\n",
              "       274998.7545611 , 295230.3768369 , 318182.18075931, 303168.91805887,\n",
              "       307750.90138352, 298688.6905241 , 322953.59624624, 335838.96763289,\n",
              "       343341.02626908, 342980.86568677, 343392.10028493, 321759.50887716,\n",
              "       310749.63150525, 294561.62515152, 318872.87734318, 308765.23877037,\n",
              "       304232.28567517, 287119.49693894, 276094.69373298, 278707.45788848,\n",
              "       269324.94544277, 283482.85772669, 289831.99374223, 321677.22066891,\n",
              "       283575.63324296, 282013.70560932, 278248.34914207, 280283.7746042 ,\n",
              "       298678.76061237, 285904.82719564, 262615.67981139, 259826.67520586,\n",
              "       254965.89051333, 254758.59070322, 255485.46643534, 248012.35111776,\n",
              "       257370.88003966, 248977.43118778, 219082.58549997, 228419.97465137,\n",
              "       225499.64128599, 223685.01701084, 215290.64948729, 208259.69393995,\n",
              "       211338.03883216, 225258.18546972, 205159.67252526, 188129.56940019,\n",
              "       187553.89773461, 200600.49599892, 216267.14585915, 185500.39302051,\n",
              "       181797.4752602 , 165231.50518979, 158227.16789597, 169377.58654979,\n",
              "       164611.24440134, 159825.46047664, 166853.33486113, 156487.86179487,\n",
              "       151716.24502595, 161420.3183607 , 171355.86340868, 157242.92216732,\n",
              "       157830.38431281, 142701.53413671, 143334.31311691, 151400.65034167,\n",
              "       133469.47224033, 129756.84133351, 123437.83052316, 118742.98993248,\n",
              "       116994.37066832, 131691.28516728, 133473.39981976, 128264.67081368,\n",
              "       115249.1886813 , 113542.39994448, 118642.4573178 , 114512.57399729,\n",
              "       123335.81667945, 112802.40475518, 107463.07986215, 109177.21797231,\n",
              "       107876.70403886, 102942.90559307,  98413.20913732, 109836.65391409,\n",
              "       100019.35687685,  96855.36907649,  92155.78545624,  97295.75343633,\n",
              "        97114.97123873,  90820.01620728,  98831.93761897,  85036.8645162 ,\n",
              "        79036.71019065,  87168.87436926,  85166.06691241,  97226.03761113,\n",
              "        89379.44613314,  80089.92080784,  75285.72216117,  72299.72957695,\n",
              "        80408.11151373,  75780.752002  ,  76489.40913308,  74726.612391  ,\n",
              "        75038.73367059,  72735.89217597,  68307.20315397,  67075.53282374,\n",
              "        67918.50181705,  70110.83433557,  69414.8011983 ,  68491.10264194,\n",
              "        66391.432096  ,  66077.67991614,  65159.27662456,  63095.42395151,\n",
              "        61831.68269014,  61547.43122518,  61797.28927445,  59890.76686609,\n",
              "        57315.24504066,  58364.61581671,  59842.27338862,  60767.81961048,\n",
              "        60115.33563912,  62033.16080564,  59060.08123553,  56902.2763207 ,\n",
              "        56872.56916273,  57159.90695161,  58376.76499146,  58399.46340716,\n",
              "        55933.31512094,  53043.31856489,  54214.42882013,  53285.06340146,\n",
              "        56073.82027531,  55277.65192628,  53552.1800915 ,  53416.61924869,\n",
              "        49527.96465707,  51936.22630608,  50582.02169085,  51409.87905133,\n",
              "        48884.92545623,  50516.39343846,  50013.62198246,  47478.48042178,\n",
              "        48517.01293659,  47776.29519653,  47087.95206368,  45945.04193199,\n",
              "        44702.15142083,  45657.44608927,  43383.43436956,  41699.28211552,\n",
              "        41997.76783025,  43106.67678809,  45007.63555568,  43928.01054752,\n",
              "        43111.15660274,  44871.48635012,  43058.74070692,  41599.06432652,\n",
              "        44067.380265  ,  44907.70678699,  42458.65198708,  40680.20686018,\n",
              "        39637.19453073,  39581.59941161,  41012.58020508,  40256.89534235,\n",
              "        41154.59239388,  40045.0021739 ,  41485.3141942 ,  39072.13920009,\n",
              "        39421.48216546,  39307.79396605,  39233.2886616 ,  38813.8376292 ,\n",
              "        39723.26064718,  38757.10707319,  38101.44387853,  38709.37743509,\n",
              "        37749.95390522,  36459.56084335,  37525.15804482,  37477.26325226,\n",
              "        37515.12491155,  38251.94087756,  37332.464082  ,  36564.26876915,\n",
              "        36548.66167295,  37225.85687995,  37379.18214905,  35961.47564507,\n",
              "        35808.68712795,  34026.73246884,  34955.89144444,  35274.22666049,\n",
              "        35759.49174404,  35569.62605131,  35020.65263593,  36799.59322619,\n",
              "        36391.70300579,  36315.48422384,  35164.79118836,  34696.2686379 ,\n",
              "        35924.85264421,  35547.80501866,  33712.52611423,  32378.44969845,\n",
              "        33663.99134815,  33993.22675836,  34944.08290076,  33757.20039487,\n",
              "        35004.59136498,  33457.79600847,  33119.35323727,  33292.51768553,\n",
              "        33379.12055397,  32598.66252267,  32692.181234  ,  32830.12649429,\n",
              "        31531.20733356,  30292.28052938,  30292.73470414,  30459.52006149,\n",
              "        31774.39727163,  32964.6654439 ,  35403.74904346,  34713.0731039 ,\n",
              "        34228.5305711 ,  34917.92656362,  33458.37404907,  33095.36455238,\n",
              "        34094.52837348,  33173.77163088,  33341.3208276 ,  31650.55207312,\n",
              "        32116.57666242,  32013.08675075,  32136.41584158,  31780.50798655,\n",
              "        31966.26546216,  30645.48398018,  30904.30165875,  32050.74196696,\n",
              "        32471.10134888,  32160.96192276,  32756.73598242,  31401.47850752,\n",
              "        29785.77245378,  29716.53144765,  28979.96321332,  29413.86526072,\n",
              "        29892.04934692,  29214.99865007,  29686.82428968,  30610.12028205,\n",
              "        31072.32567453,  31669.8751446 ,  30710.47225904,  30119.26059127,\n",
              "        30038.33490729,  29950.45209181])"
            ]
          },
          "execution_count": 23,
          "metadata": {},
          "output_type": "execute_result"
        }
      ],
      "source": [
        "# Denormalize the input data back to the original scale\n",
        "train_predictions = predicted.flatten()\n",
        "\n",
        "dummies = np.zeros((X_train.shape[0], lookback+1))\n",
        "dummies[:, 0] = train_predictions\n",
        "dummies = scaler.inverse_transform(dummies)\n",
        "\n",
        "train_predictions = dc(dummies[:, 0])\n",
        "train_predictions"
      ]
    },
    {
      "cell_type": "code",
      "execution_count": 24,
      "id": "PHnvejOdrL7Q",
      "metadata": {
        "colab": {
          "base_uri": "https://localhost:8080/"
        },
        "id": "PHnvejOdrL7Q",
        "outputId": "952cb861-3f21-42d2-f1b2-9e489c9cdcd7"
      },
      "outputs": [
        {
          "data": {
            "text/plain": [
              "array([-0.11114062,  0.09902585,  0.12055873,  0.19324738,  0.18604665,\n",
              "        0.53061897,  0.3189396 ,  0.4908042 ,  0.30464783,  0.46887287,\n",
              "        0.40020904,  0.50626236,  0.6560744 ,  0.82639724,  0.6250079 ,\n",
              "        0.7188541 ,  0.61183643,  0.8810812 ,  0.9408409 ,  1.        ,\n",
              "        0.9784498 ,  0.9871288 ,  0.75626093,  0.7061388 ,  0.57453936,\n",
              "        0.8517586 ,  0.6735363 ,  0.6704066 ,  0.52024806,  0.4686188 ,\n",
              "        0.5124237 ,  0.4203214 ,  0.57227576,  0.5831606 ,  0.8850598 ,\n",
              "        0.441785  ,  0.5404644 ,  0.48837316,  0.5196995 ,  0.67921835,\n",
              "        0.51303   ,  0.35768607,  0.38790372,  0.34434134,  0.35617894,\n",
              "        0.36011133,  0.29684082,  0.39597058,  0.29615363,  0.08661081,\n",
              "        0.237699  ,  0.17244785,  0.17244785,  0.10822453,  0.07546037,\n",
              "        0.11637226,  0.21722284,  0.01915959, -0.05367341, -0.01920001,\n",
              "        0.08155818,  0.16818053, -0.11352547, -0.05139828, -0.18720731,\n",
              "       -0.19485267, -0.08716515, -0.16497572, -0.18447022, -0.11355434,\n",
              "       -0.22251223, -0.22649659, -0.13433076, -0.08681869, -0.22902001,\n",
              "       -0.17665163, -0.30900177, -0.2545546 , -0.19432142, -0.3707132 ,\n",
              "       -0.34115386, -0.3890528 , -0.40926334, -0.4098119 , -0.27470738,\n",
              "       -0.3148282 , -0.36084467, -0.45562056, -0.42629218, -0.37808716,\n",
              "       -0.4347171 , -0.33919054, -0.46625128, -0.4737927 , -0.44086686,\n",
              "       -0.460985  , -0.50078243, -0.5241805 , -0.40131772, -0.5379987 ,\n",
              "       -0.527085  , -0.5611773 , -0.49416494, -0.5183367 , -0.5760407 ,\n",
              "       -0.47396016, -0.63946134, -0.64138424, -0.53753096, -0.5942706 ,\n",
              "       -0.46761984, -0.59333515, -0.64927214, -0.65986246, -0.67106485,\n",
              "       -0.5762832 , -0.66012806, -0.6310595 , -0.6528465 , -0.64180577,\n",
              "       -0.66698235, -0.70226413, -0.6951385 , -0.68143576, -0.662894  ,\n",
              "       -0.6802924 , -0.6862747 , -0.70400226, -0.6976793 , -0.7062139 ,\n",
              "       -0.7238317 , -0.7276255 , -0.72494036, -0.7211408 , -0.74295086,\n",
              "       -0.7616023 , -0.73775387, -0.7273657 , -0.72463435, -0.73596954,\n",
              "       -0.71198833, -0.75337946, -0.7621855 , -0.75213796, -0.7491757 ,\n",
              "       -0.73742473, -0.7432338 , -0.7700503 , -0.78978735, -0.7624973 ,\n",
              "       -0.7791393 , -0.7435341 , -0.76651055, -0.7812874 , -0.7741559 ,\n",
              "       -0.81723326, -0.77014846, -0.79829884, -0.7817955 , -0.8146925 ,\n",
              "       -0.7831294 , -0.79753083, -0.8236775 , -0.7984952 , -0.8127234 ,\n",
              "       -0.81661534, -0.8262414 , -0.8345161 , -0.81698495, -0.84864616,\n",
              "       -0.8560317 , -0.8435647 , -0.8324027 , -0.81643057, -0.83916456,\n",
              "       -0.842635  , -0.8178742 , -0.8485307 , -0.855691  , -0.8189367 ,\n",
              "       -0.8227709 , -0.8556679 , -0.8632613 , -0.8659464 , -0.86108434,\n",
              "       -0.84397465, -0.8607609 , -0.8459206 , -0.8641159 , -0.8409431 ,\n",
              "       -0.8774953 , -0.8599179 , -0.8632959 , -0.86362505, -0.86816955,\n",
              "       -0.85508466, -0.8715938 , -0.87412304, -0.8631689 , -0.87811315,\n",
              "       -0.88823575, -0.8681869 , -0.874839  , -0.8741403 , -0.86553067,\n",
              "       -0.88064814, -0.88473064, -0.88064814, -0.8723849 , -0.87442327,\n",
              "       -0.8923414 , -0.8861165 , -0.9070431 , -0.88553905, -0.887104  ,\n",
              "       -0.88300407, -0.88806826, -0.89368683, -0.8689722 , -0.8841474 ,\n",
              "       -0.88258255, -0.89608896, -0.89521706, -0.87768006, -0.8893502 ,\n",
              "       -0.9094164 , -0.91534674, -0.8918621 , -0.895448  , -0.8857296 ,\n",
              "       -0.9055937 , -0.88352954, -0.9097051 , -0.90492964, -0.90080094,\n",
              "       -0.90079516, -0.9108542 , -0.905253  , -0.9040404 , -0.9209884 ,\n",
              "       -0.92878383, -0.9215081 , -0.919487  , -0.9042136 , -0.8972727 ,\n",
              "       -0.8743771 , -0.8968454 , -0.89867014, -0.88742155, -0.9092085 ,\n",
              "       -0.90517217, -0.89085734, -0.9078688 , -0.90054685, -0.92239153,\n",
              "       -0.90673125, -0.91089463, -0.9087581 , -0.9138281 , -0.9095203 ,\n",
              "       -0.9269649 , -0.9160743 , -0.90337056, -0.90495276, -0.91118336,\n",
              "       -0.9020193 , -0.92220676, -0.9344543 , -0.92577535, -0.93461025,\n",
              "       -0.924811  , -0.92148495, -0.9327682 , -0.92289966, -0.9142554 ,\n",
              "       -0.91393197, -0.90925467, -0.9245974 , -0.926272  , -0.9238525 ,\n",
              "       -0.924453  , -0.92187184], dtype=float32)"
            ]
          },
          "execution_count": 24,
          "metadata": {},
          "output_type": "execute_result"
        }
      ],
      "source": [
        "# Same thing for the output data\n",
        "dummies = np.zeros((X_train.shape[0], lookback+1))\n",
        "dummies[:, 0] = y_train.flatten()\n",
        "dummies = scaler.inverse_transform(dummies)\n",
        "\n",
        "new_y_train = dc(dummies[:, 0])\n",
        "new_y_train = y_train.flatten().to('cpu').numpy()\n",
        "new_y_train"
      ]
    },
    {
      "cell_type": "code",
      "execution_count": 25,
      "id": "2LlDAUtyrcrN",
      "metadata": {
        "colab": {
          "base_uri": "https://localhost:8080/",
          "height": 449
        },
        "id": "2LlDAUtyrcrN",
        "outputId": "819c2ff2-be0d-4781-d164-915936251f66"
      },
      "outputs": [
        {
          "data": {
            "image/png": "[encoded data removed]",
            "text/plain": [
              "<Figure size 640x480 with 1 Axes>"
            ]
          },
          "metadata": {},
          "output_type": "display_data"
        }
      ],
      "source": [
        "# Plot the results of training data\n",
        "x_axis = shifted_df.index.tolist()\n",
        "\n",
        "plt.plot(x_axis[:split_index], new_y_train, label = \"Actual\")\n",
        "plt.plot(x_axis[:split_index], train_predictions, label='Predicted')\n",
        "plt.xlabel('Contest number')\n",
        "plt.ylabel('Number of  reported results')\n",
        "plt.legend()\n",
        "plt.show()\n"
      ]
    },
    {
      "cell_type": "code",
      "execution_count": 26,
      "id": "yYeC2JMorftR",
      "metadata": {
        "colab": {
          "base_uri": "https://localhost:8080/"
        },
        "id": "yYeC2JMorftR",
        "outputId": "94df7137-866f-42aa-cb02-5a78961f6779"
      },
      "outputs": [
        {
          "data": {
            "text/plain": [
              "array([30113.60405111, 30282.47448349, 30207.24662828, 30179.17037058,\n",
              "       30680.49672508, 29781.39586067, 29491.6117214 , 28093.10442305,\n",
              "       27212.56279075, 27629.22684169, 28290.75301957, 28682.49939179,\n",
              "       29741.44912636, 29218.48753798, 30084.99104142, 31114.44006109,\n",
              "       29293.94248056, 28943.91825306, 29595.22549891, 29204.16038883,\n",
              "       28346.30685008, 27327.94382334, 27036.87973702, 27571.48471463,\n",
              "       28256.1325165 , 27710.66863334, 28316.24873888, 29410.29379559,\n",
              "       27885.36076033, 27271.23391163, 26658.90311766, 27798.71660328,\n",
              "       27997.60385823, 28565.01263988, 27226.72478545, 27594.13151956,\n",
              "       27234.63155508, 27449.88974559, 26495.42084944, 26873.31489158,\n",
              "       25720.43355954, 26090.81307387, 25915.31581891, 26605.86789262,\n",
              "       25836.84680748, 25635.95705473, 26163.83198822, 24755.08511353,\n",
              "       25175.44449544, 24265.5673027 , 24181.00822067, 24561.79246581,\n",
              "       25296.87431002, 24173.74142456, 24250.95113325, 24585.73986208,\n",
              "       24520.40063   , 24411.02709079, 26086.76678967, 26042.91828132,\n",
              "       25144.47803473, 23955.92333996, 24033.91753232, 23334.55033946,\n",
              "       20914.62465692, 21710.31818688, 22483.98424113, 22543.7701546 ,\n",
              "       22506.89942205, 23019.33241379])"
            ]
          },
          "execution_count": 26,
          "metadata": {},
          "output_type": "execute_result"
        }
      ],
      "source": [
        "# Denormalize test split\n",
        "test_predictions = model(X_test.to(device)).detach().cpu().numpy().flatten()\n",
        "\n",
        "dummies = np.zeros((X_test.shape[0], lookback+1))\n",
        "dummies[:, 0] = test_predictions\n",
        "dummies = scaler.inverse_transform(dummies)\n",
        "\n",
        "test_predictions = dc(dummies[:, 0])\n",
        "test_predictions"
      ]
    },
    {
      "cell_type": "code",
      "execution_count": 27,
      "id": "g-DJXBgYsFyI",
      "metadata": {
        "colab": {
          "base_uri": "https://localhost:8080/"
        },
        "id": "g-DJXBgYsFyI",
        "outputId": "b606685e-137b-41ef-8a56-6171133ed013"
      },
      "outputs": [
        {
          "data": {
            "text/plain": [
              "array([29278.9960022 , 28947.00457698, 28953.0017482 , 30063.00485432,\n",
              "       27608.99542069, 27905.00381857, 25155.99755812, 24672.00209945,\n",
              "       26498.00138783, 27501.99597681, 27669.99934828, 29553.99881756,\n",
              "       27329.9979319 , 29742.9974494 , 31068.00069219, 26096.00511712,\n",
              "       27212.9963212 , 28983.99917537, 27467.00387621, 25993.00034666,\n",
              "       24659.99743485, 25085.00178587, 26535.99723512, 27475.00354522,\n",
              "       25575.99566466, 27465.00137842, 29208.00022995, 24748.99504292,\n",
              "       24990.99793333, 24287.99734241, 27436.99737579, 26663.00101262,\n",
              "       27705.00177103, 24196.99723655, 26380.99977714, 25205.99807   ,\n",
              "       26051.00052756, 23739.00328273, 25568.99724454, 22627.99892771,\n",
              "       24646.00059462, 23872.9951582 , 25576.99691355, 23153.0043025 ,\n",
              "       23509.00505692, 24898.99657857, 21198.99998772, 23640.00350785,\n",
              "       21156.99914485, 21946.99484605, 22872.99524266, 24101.00120836,\n",
              "       20823.99614859, 22176.00214511, 22853.00123119, 22335.99552542,\n",
              "       22165.9999783 , 26010.00093359, 24137.00488001, 22179.99681854,\n",
              "       20490.00222558, 21937.00300139, 20280.99926013, 15554.        ,\n",
              "       20011.00268924, 20879.00290495, 20160.002976  , 20001.00052243,\n",
              "       21203.99591005, 20379.999035  ])"
            ]
          },
          "execution_count": 27,
          "metadata": {},
          "output_type": "execute_result"
        }
      ],
      "source": [
        "dummies = np.zeros((X_test.shape[0], lookback+1))\n",
        "dummies[:, 0] = y_test.flatten()\n",
        "dummies = scaler.inverse_transform(dummies)\n",
        "\n",
        "new_y_test = dc(dummies[:, 0])\n",
        "new_y_test"
      ]
    },
    {
      "cell_type": "code",
      "execution_count": 28,
      "id": "PhLmIlHOsSK4",
      "metadata": {
        "colab": {
          "base_uri": "https://localhost:8080/",
          "height": 449
        },
        "id": "PhLmIlHOsSK4",
        "outputId": "09c21535-ea22-4d65-bc50-b159bd4dc135"
      },
      "outputs": [
        {
          "data": {
            "image/png": "[encoded data removed]",
            "text/plain": [
              "<Figure size 640x480 with 1 Axes>"
            ]
          },
          "metadata": {},
          "output_type": "display_data"
        }
      ],
      "source": [
        "# Plot testing results and deviation\n",
        "new_x_axis = shifted_df.index.to_list()[split_index:]\n",
        "\n",
        "plt.plot(new_x_axis, new_y_test, label='Actual')\n",
        "plt.plot(new_x_axis, test_predictions, label='Predicted')\n",
        "\n",
        "deviation = np.abs((test_predictions - new_y_test))\n",
        "average_deviation = np.mean(deviation)\n",
        "\n",
        "plt.plot(new_x_axis, [average_deviation] * len(test_predictions), label='Average deviation')\n",
        "plt.plot(new_x_axis, deviation, label='Deviation')\n",
        "plt.fill_between(new_x_axis, deviation, 0, alpha=0.3)\n",
        "\n",
        "plt.xlabel('Contest number')\n",
        "plt.ylabel('Number of reported results')\n",
        "plt.legend()\n",
        "plt.show()\n"
      ]
    },
    {
      "cell_type": "code",
      "execution_count": 29,
      "id": "cf019e68",
      "metadata": {},
      "outputs": [
        {
          "data": {
            "text/plain": [
              "((69,), (69,))"
            ]
          },
          "execution_count": 29,
          "metadata": {},
          "output_type": "execute_result"
        }
      ],
      "source": [
        "# Drop Christmas Day as a datapoint from both the original data and the predicted data\n",
        "new_y_test_without_christmas = np.delete(new_y_test, 70 - 7)\n",
        "test_predictions_without_christmas = np.delete(test_predictions, 70 - 7)\n",
        "\n",
        "new_y_test_without_christmas.shape, test_predictions_without_christmas.shape"
      ]
    },
    {
      "cell_type": "code",
      "execution_count": 30,
      "id": "cf4c2a2e",
      "metadata": {},
      "outputs": [
        {
          "name": "stdout",
          "output_type": "stream",
          "text": [
            "Mean of original data: 24955.21716036054\n",
            "Mean of predicted data: 26832.714420874916\n",
            "Relative error: 1877.4972605143776\n",
            "Relative error rate: 7.523465928786383\n",
            "RMSE: 2470.6232360117324\n",
            "Relative RMSE: 9.900227355809706\n"
          ]
        }
      ],
      "source": [
        "from sklearn.metrics import mean_squared_error\n",
        "from math import sqrt\n",
        "\n",
        "# Statistical analysis of prediction data and original data\n",
        "x_bar = np.mean(new_y_test_without_christmas)\n",
        "x_hat_bar = np.mean(test_predictions_without_christmas)\n",
        "\n",
        "relative_error = np.abs(x_bar - x_hat_bar)\n",
        "relative_error_rate = relative_error / x_bar * 100\n",
        "rmse = sqrt(mean_squared_error(new_y_test_without_christmas, test_predictions_without_christmas))\n",
        "relative_rmse = rmse / x_bar * 100\n",
        "\n",
        "print(f\"Mean of original data: {x_bar}\")\n",
        "print(f\"Mean of predicted data: {x_hat_bar}\")\n",
        "print(f\"Relative error: {relative_error}\")\n",
        "print(f\"Relative error rate: {relative_error_rate}\")\n",
        "print(f\"RMSE: {rmse}\")\n",
        "print(f\"Relative RMSE: {relative_rmse}\")\n"
      ]
    },
    {
      "cell_type": "code",
      "execution_count": 31,
      "id": "fd695ef6",
      "metadata": {},
      "outputs": [
        {
          "data": {
            "text/plain": [
              "array([20379.999035  , 21203.99591005, 20001.00052243, 20160.002976  ,\n",
              "       20879.00290495, 20011.00268924, 20280.99926013, 21937.00300139])"
            ]
          },
          "execution_count": 31,
          "metadata": {},
          "output_type": "execute_result"
        }
      ],
      "source": [
        "buffer = new_y_test_without_christmas[len(new_y_test_without_christmas) - lookback - 1:]\n",
        "buffer = buffer[::-1]\n",
        "buffer"
      ]
    },
    {
      "cell_type": "code",
      "execution_count": 32,
      "id": "d3fb7654",
      "metadata": {},
      "outputs": [
        {
          "data": {
            "text/plain": [
              "array([34102.80674064])"
            ]
          },
          "execution_count": 32,
          "metadata": {},
          "output_type": "execute_result"
        }
      ],
      "source": [
        "# Predict the next 7 days\n",
        "# Prepare the input data for prediction\n",
        "prediction_input = shifted_df.iloc[-1:, : ].to_numpy().astype(np.float32)\n",
        "# Normalize the input data\n",
        "prediction_input = scaler.transform(prediction_input.reshape(1, -1)).reshape((1, lookback + 1, 1))\n",
        "prediction_input = torch.tensor(prediction_input).float()\n",
        "for i in range(61):\n",
        "    \n",
        "    # Reshape the input data to match the expected input shape of the model\n",
        "    prediction_input = prediction_input.reshape((1, lookback + 1, 1))\n",
        "    \n",
        "\n",
        "    # Remove last entry of input data\n",
        "    prediction_input = prediction_input[:, :-1, :]\n",
        "    # Use the trained model to make predictions on the input data\n",
        "    with torch.no_grad():\n",
        "        prediction_output = model(prediction_input.to(device)).to('cpu').numpy().flatten()\n",
        "    \n",
        "    # Add prediction_output to prediction_input array\n",
        "    prediction_input = np.insert(prediction_input, 0, prediction_output, axis=1)\n",
        "\n",
        "# Denormalize the final prediction\n",
        "prediction_output = prediction_output.flatten()\n",
        "dummies = np.zeros((1, lookback+1))\n",
        "dummies[:, 0] = prediction_output\n",
        "dummies = scaler.inverse_transform(dummies)\n",
        "result = dc(dummies[:, 0])\n",
        "result\n",
        "\n"
      ]
    },
    {
      "cell_type": "markdown",
      "id": "13ce94d7",
      "metadata": {},
      "source": [
        "# Results\n",
        "All in all, our results for this model line up really well with the paper! It's only one out of 3 models the paper used though, there are still the other objectives to tackle."
      ]
    }
  ],
  "metadata": {
    "colab": {
      "gpuType": "T4",
      "provenance": []
    },
    "gpuClass": "standard",
    "kernelspec": {
      "display_name": "Python 3",
      "name": "python3"
    },
    "language_info": {
      "codemirror_mode": {
        "name": "ipython",
        "version": 3
      },
      "file_extension": ".py",
      "mimetype": "text/x-python",
      "name": "python",
      "nbconvert_exporter": "python",
      "pygments_lexer": "ipython3",
      "version": "3.10.10"
    }
  },
  "nbformat": 4,
  "nbformat_minor": 5
}
